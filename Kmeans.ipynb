{
 "cells": [
  {
   "cell_type": "code",
   "execution_count": 1,
   "metadata": {},
   "outputs": [],
   "source": [
    "import pandas as pd\n",
    "import numpy as np\n",
    "\n",
    "movies = pd.read_csv('datasets/ml-latest-small/movies.csv', index_col=0)\n",
    "ratings_df = pd.read_csv('datasets/ml-latest-small/ratings.csv')\n",
    "ratings_df.columns = ['user_id', 'movie_id', 'rating', 'timestamp']\n",
    "\n",
    "user_ratings = ratings_df.pivot(index='movie_id', columns='user_id',\n",
    "                                values='rating')\n"
   ]
  },
  {
   "cell_type": "code",
   "execution_count": 2,
   "metadata": {},
   "outputs": [],
   "source": [
    "ui_matrix = np.copy(user_ratings.values)\n",
    "popularity = np.isfinite(ui_matrix).astype(int).sum(axis=1)\n",
    "means = np.nanmean(ui_matrix, axis=1)\n",
    "ui_matrix = ui_matrix - means.reshape(-1, 1)\n",
    "ui_matrix = np.nan_to_num(ui_matrix)"
   ]
  },
  {
   "cell_type": "code",
   "execution_count": 3,
   "metadata": {},
   "outputs": [],
   "source": [
    "from scipy.sparse.linalg import svds\n",
    "\n",
    "u, s, vt = svds(ui_matrix, k=500)"
   ]
  },
  {
   "cell_type": "code",
   "execution_count": 4,
   "metadata": {
    "collapsed": true
   },
   "outputs": [],
   "source": [
    "from sklearn.cluster import KMeans\n",
    "\n",
    "n_clusters = 10\n",
    "kmeans = KMeans(n_clusters)\n",
    "clusters = kmeans.fit_predict(u)\n",
    "\n",
    "cluster_mask = np.asarray([clusters == i for i in range(n_clusters)])\n",
    "\n",
    "ratings_mask = np.isfinite(user_ratings.values)"
   ]
  },
  {
   "cell_type": "code",
   "execution_count": 5,
   "metadata": {},
   "outputs": [
    {
     "data": {
      "text/html": [
       "<div>\n",
       "<style>\n",
       "    .dataframe thead tr:only-child th {\n",
       "        text-align: right;\n",
       "    }\n",
       "\n",
       "    .dataframe thead th {\n",
       "        text-align: left;\n",
       "    }\n",
       "\n",
       "    .dataframe tbody tr th {\n",
       "        vertical-align: top;\n",
       "    }\n",
       "</style>\n",
       "<table border=\"1\" class=\"dataframe\">\n",
       "  <thead>\n",
       "    <tr style=\"text-align: right;\">\n",
       "      <th></th>\n",
       "      <th>relevance</th>\n",
       "      <th>title</th>\n",
       "    </tr>\n",
       "    <tr>\n",
       "      <th>movie_id</th>\n",
       "      <th></th>\n",
       "      <th></th>\n",
       "    </tr>\n",
       "  </thead>\n",
       "  <tbody>\n",
       "    <tr>\n",
       "      <th>1304</th>\n",
       "      <td>5.920166e-15</td>\n",
       "      <td>Butch Cassidy and the Sundance Kid (1969)</td>\n",
       "    </tr>\n",
       "    <tr>\n",
       "      <th>4447</th>\n",
       "      <td>-2.042610e-15</td>\n",
       "      <td>Legally Blonde (2001)</td>\n",
       "    </tr>\n",
       "    <tr>\n",
       "      <th>3354</th>\n",
       "      <td>8.000224e-16</td>\n",
       "      <td>Mission to Mars (2000)</td>\n",
       "    </tr>\n",
       "    <tr>\n",
       "      <th>344</th>\n",
       "      <td>-4.114401e-16</td>\n",
       "      <td>Ace Ventura: Pet Detective (1994)</td>\n",
       "    </tr>\n",
       "    <tr>\n",
       "      <th>778</th>\n",
       "      <td>-5.806614e-15</td>\n",
       "      <td>Trainspotting (1996)</td>\n",
       "    </tr>\n",
       "    <tr>\n",
       "      <th>3730</th>\n",
       "      <td>5.739291e-15</td>\n",
       "      <td>Conversation, The (1974)</td>\n",
       "    </tr>\n",
       "    <tr>\n",
       "      <th>780</th>\n",
       "      <td>-5.504741e-16</td>\n",
       "      <td>Independence Day (a.k.a. ID4) (1996)</td>\n",
       "    </tr>\n",
       "    <tr>\n",
       "      <th>25</th>\n",
       "      <td>-2.613935e-15</td>\n",
       "      <td>Leaving Las Vegas (1995)</td>\n",
       "    </tr>\n",
       "    <tr>\n",
       "      <th>7153</th>\n",
       "      <td>-1.159123e-15</td>\n",
       "      <td>Lord of the Rings: The Return of the King, The...</td>\n",
       "    </tr>\n",
       "    <tr>\n",
       "      <th>1196</th>\n",
       "      <td>-8.205358e-16</td>\n",
       "      <td>Star Wars: Episode V - The Empire Strikes Back...</td>\n",
       "    </tr>\n",
       "  </tbody>\n",
       "</table>\n",
       "</div>"
      ],
      "text/plain": [
       "             relevance                                              title\n",
       "movie_id                                                                 \n",
       "1304      5.920166e-15          Butch Cassidy and the Sundance Kid (1969)\n",
       "4447     -2.042610e-15                              Legally Blonde (2001)\n",
       "3354      8.000224e-16                             Mission to Mars (2000)\n",
       "344      -4.114401e-16                  Ace Ventura: Pet Detective (1994)\n",
       "778      -5.806614e-15                               Trainspotting (1996)\n",
       "3730      5.739291e-15                           Conversation, The (1974)\n",
       "780      -5.504741e-16               Independence Day (a.k.a. ID4) (1996)\n",
       "25       -2.613935e-15                           Leaving Las Vegas (1995)\n",
       "7153     -1.159123e-15  Lord of the Rings: The Return of the King, The...\n",
       "1196     -8.205358e-16  Star Wars: Episode V - The Empire Strikes Back..."
      ]
     },
     "execution_count": 5,
     "metadata": {},
     "output_type": "execute_result"
    }
   ],
   "source": [
    "np.sum(ratings_mask, axis=1).size\n",
    "relevance = ((np.sum(ui_matrix, axis=1) / user_ratings.shape[1]) * \n",
    "             (user_ratings.shape[0] / np.sum(ratings_mask, axis=1)))\n",
    "\n",
    "relevance_df = pd.DataFrame(relevance, index=user_ratings.index)\n",
    "relevance_df['title'] = [movies.title[id] for id in relevance_df.index]\n",
    "relevance_df.columns = ['relevance', 'title']\n",
    "\n",
    "relevance_df.sort_values(by='relevance', ascending=False)\n",
    "\n",
    "\n",
    "masked_array = np.tile(relevance, (cluster_mask.shape[0], 1))\n",
    "masked_array[~cluster_mask] = -np.inf\n",
    "sorted_array = np.argsort(masked_array, axis=1)\n",
    "\n",
    "relevance_df.iloc[sorted_array[:, -1]]"
   ]
  }
 ],
 "metadata": {
  "kernelspec": {
   "display_name": "Python 3",
   "language": "python",
   "name": "python3"
  },
  "language_info": {
   "codemirror_mode": {
    "name": "ipython",
    "version": 3
   },
   "file_extension": ".py",
   "mimetype": "text/x-python",
   "name": "python",
   "nbconvert_exporter": "python",
   "pygments_lexer": "ipython3",
   "version": "3.6.3"
  }
 },
 "nbformat": 4,
 "nbformat_minor": 2
}
